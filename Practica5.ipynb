{
 "cells": [
  {
   "cell_type": "code",
   "execution_count": 1,
   "id": "cce98e75-b69a-43b7-8789-c122870bfbba",
   "metadata": {},
   "outputs": [
    {
     "name": "stdout",
     "output_type": "stream",
     "text": [
      "(60000, 784) (10000, 784)\n"
     ]
    }
   ],
   "source": [
    "import numpy as np\n",
    "import DnnLib\n",
    "import json\n",
    "\n",
    "prueba = np.load(\"fashion_mnist_train.npz\")\n",
    "test = np.load(\"fashion_mnist_test.npz\")\n",
    "\n",
    "imagenes = prueba[\"images\"]\n",
    "labelE = prueba[\"labels\"]\n",
    "\n",
    "imagens = test[\"images\"]\n",
    "labelP = test[\"labels\"]\n",
    "\n",
    "imagenE = imagenes.reshape(-1, 784)/255\n",
    "imagenP = imagens.reshape(-1, 784) /255\n",
    "\n",
    "\n",
    "print(imagenE.shape, imagenP.shape)\n"
   ]
  },
  {
   "cell_type": "code",
   "execution_count": 12,
   "id": "8f69ef90-f222-4e75-9502-2c5a53a0d7f9",
   "metadata": {},
   "outputs": [],
   "source": [
    "#funcion para cargar los datos del entrenamiento de practica4\n",
    "def load_datos():\n",
    "\n",
    "    with open(\"mnist_entrenado.json\", \"r\") as f:\n",
    "        datos = json.load(f)\n",
    "\n",
    "    layer1 = DnnLib.DenseLayer(784, 128, DnnLib.ActivationType.RELU)\n",
    "    layer1.set_regularizer(DnnLib.RegularizerType.L2, lambda_value=0.001)\n",
    "    #solo un dropout ya que solo hay una capa oculta\n",
    "    dropout1 = DnnLib.Dropout(dropout_rate=0.5)\n",
    "    layer2 = DnnLib.DenseLayer(128, 10, DnnLib.ActivationType.SOFTMAX)\n",
    "    \n",
    "    #set regularizadores de L2 siendo estos los mas compatibles\n",
    "    layer2.set_regularizer(DnnLib.RegularizerType.L2, lambda_value=0.001)\n",
    "\n",
    "    #cargar los datos del json\n",
    "    layer1.weights = np.array(datos[\"layers\"][0][\"W\"])\n",
    "    layer1.bias = np.array(datos[\"layers\"][0][\"b\"])\n",
    "\n",
    "    layer2.weights = np.array(datos[\"layers\"][1][\"W\"])\n",
    "    layer2.bias = np.array(datos[\"layers\"][1][\"b\"])\n",
    "\n",
    "    #retornar las capas y el dropout\n",
    "    return [layer1, droupout1, layer2]"
   ]
  },
  {
   "cell_type": "code",
   "execution_count": 3,
   "id": "3677b3b1-590a-4fa1-aa4d-a0c5ddc902b9",
   "metadata": {},
   "outputs": [],
   "source": [
    "def entrenar_cero():\n",
    "\n",
    "    layer1 = DnnLib.DenseLayer(784, 128, DnnLib.ActivationType.RELU)\n",
    "    layer2 = DnnLib.DenseLayer(128, 10, DnnLib.ActivationType.SOFTMAX)\n",
    "\n",
    "    return [layer1, layer2]"
   ]
  },
  {
   "cell_type": "code",
   "execution_count": 4,
   "id": "7c15fc8f-bdf9-4695-a55d-fb883ba356b0",
   "metadata": {},
   "outputs": [],
   "source": [
    "def entrenamiento(capas, optimizers, x, y, label, epochs, batches = 128):\n",
    "    n = x.shape[0]\n",
    "    for e in epochs:\n",
    "        r = np.random.permutation(n)\n",
    "        x_shuffled = x[r]\n",
    "        y_shuffled = y[r]\n",
    "        labels = label[r]\n",
    "\n",
    "        epoch_loss = 0.0\n",
    "        n_batches, correcto, total = 0, 0, 0\n",
    "        \n",
    "        for i in range(0, n, batches):\n",
    "            x_batch = x_shuffled[i:i+batches]\n",
    "            y_batch = y_shuffled[i:i+batches]\n",
    "            label_batch = labels[i:i+batches]\n",
    "            \n",
    "            out1 = capas[0].forward(x_batch)\n",
    "            out2 = capas[1].forward(out1)\n",
    "    \n",
    "            perdida = DnnLib.cross_entropy(out2, y_batch)\n",
    "            \n",
    "            total_reg_loss = 0.0\n",
    "            for layer in layers:\n",
    "                total_reg_loss += layer.compute_regularization_loss()\n",
    "                total_loss = data_loss + total_reg_loss\n",
    "    \n",
    "            gradiente = DnnLib.softmax_crossentropy_gradient(out2, y_batch)\n",
    "            gradiente = capas[1].backward(gradiente)\n",
    "            gradiente = capas[0].backward(gradiente)\n",
    "    \n",
    "            for layer in layers:\n",
    "                if not hasattr(layer, 'training'): # Dense layer\n",
    "                    optimizer.update(layer)\n",
    "\n",
    "            epoch_loss += perdida\n",
    "            n_batches += 1\n",
    "            \n",
    "            preds = np.argmax(out2, axis=1)\n",
    "            correct += np.sum(preds == label_batch)\n",
    "            total += len(label_batch)\n",
    "        \n",
    "        avg_loss = epoch_loss / n_batches\n",
    "        acc = correct/total\n",
    "        \n",
    "        print(f\"Epoch {e}, Avg Loss: {avg_loss:.4f}, Avg Acc: {accuracy*100:.4f}\",\n",
    "                f\"Reg Loss: {total_reg_loss:.4f}, Total: {total_loss:.4f}\")\n",
    "\n",
    "        "
   ]
  },
  {
   "cell_type": "code",
   "execution_count": 13,
   "id": "9618a419-0439-41c7-8ab4-bebcb3ab4693",
   "metadata": {},
   "outputs": [
    {
     "ename": "TypeError",
     "evalue": "set_regularizer(): incompatible function arguments. The following argument types are supported:\n    1. (self: DnnLib.DenseLayer, arg0: regularization::RegularizerType, arg1: typing.SupportsFloat) -> None\n\nInvoked with: <DnnLib.DenseLayer object at 0x7fffd108af30>, <RegularizerType.L2: 2>; kwargs: lambda_value=0.001",
     "output_type": "error",
     "traceback": [
      "\u001b[31m---------------------------------------------------------------------------\u001b[39m",
      "\u001b[31mTypeError\u001b[39m                                 Traceback (most recent call last)",
      "\u001b[36mCell\u001b[39m\u001b[36m \u001b[39m\u001b[32mIn[13]\u001b[39m\u001b[32m, line 7\u001b[39m\n\u001b[32m      3\u001b[39m y[np.arange(la), labelE] = \u001b[32m1.0\u001b[39m\n\u001b[32m      5\u001b[39m optimizers = DnnLib.Adam(\u001b[32m0.001\u001b[39m)\n\u001b[32m----> \u001b[39m\u001b[32m7\u001b[39m capas = \u001b[43mload_datos\u001b[49m\u001b[43m(\u001b[49m\u001b[43m)\u001b[49m\n\u001b[32m      8\u001b[39m entrenamiento(capas, optimizers, imagenE, y, labelE, \u001b[32m10\u001b[39m)\n",
      "\u001b[36mCell\u001b[39m\u001b[36m \u001b[39m\u001b[32mIn[12]\u001b[39m\u001b[32m, line 8\u001b[39m, in \u001b[36mload_datos\u001b[39m\u001b[34m()\u001b[39m\n\u001b[32m      5\u001b[39m     datos = json.load(f)\n\u001b[32m      7\u001b[39m layer1 = DnnLib.DenseLayer(\u001b[32m784\u001b[39m, \u001b[32m128\u001b[39m, DnnLib.ActivationType.RELU)\n\u001b[32m----> \u001b[39m\u001b[32m8\u001b[39m \u001b[43mlayer1\u001b[49m\u001b[43m.\u001b[49m\u001b[43mset_regularizer\u001b[49m\u001b[43m(\u001b[49m\u001b[43mDnnLib\u001b[49m\u001b[43m.\u001b[49m\u001b[43mRegularizerType\u001b[49m\u001b[43m.\u001b[49m\u001b[43mL2\u001b[49m\u001b[43m,\u001b[49m\u001b[43m \u001b[49m\u001b[43mlambda_value\u001b[49m\u001b[43m=\u001b[49m\u001b[32;43m0.001\u001b[39;49m\u001b[43m)\u001b[49m\n\u001b[32m      9\u001b[39m \u001b[38;5;66;03m#solo un dropout ya que solo hay una capa oculta\u001b[39;00m\n\u001b[32m     10\u001b[39m dropout1 = DnnLib.Dropout(dropout_rate=\u001b[32m0.5\u001b[39m)\n",
      "\u001b[31mTypeError\u001b[39m: set_regularizer(): incompatible function arguments. The following argument types are supported:\n    1. (self: DnnLib.DenseLayer, arg0: regularization::RegularizerType, arg1: typing.SupportsFloat) -> None\n\nInvoked with: <DnnLib.DenseLayer object at 0x7fffd108af30>, <RegularizerType.L2: 2>; kwargs: lambda_value=0.001"
     ]
    }
   ],
   "source": [
    "la = labelE.shape[0]\n",
    "y = np.zeros((la, 10), dtype=np.float64)\n",
    "y[np.arange(la), labelE] = 1.0\n",
    "\n",
    "optimizers = DnnLib.Adam(0.001)\n",
    "\n",
    "capas = load_datos()\n",
    "entrenamiento(capas, optimizers, imagenE, y, labelE, 10)\n"
   ]
  },
  {
   "cell_type": "code",
   "execution_count": null,
   "id": "3291e7d4-bc85-431e-9c56-19141763b3ba",
   "metadata": {},
   "outputs": [],
   "source": [
    "#intento de la creación de softmax_crossentropy_gradient\n",
    "def softmax(x):\n",
    "    exp = np.exp(x - np.max(x))\n",
    "    return exp/np.sum(exp)\n",
    "\n",
    "def gradientes(salida, one_hot):\n",
    "    x = sp.Symbol('x')\n",
    "    sofi = softmax(x)\n",
    "    sofid= sp.diff(sofi, x)\n",
    "\n",
    "    cross = DnnLib.cross_entropy_gradiente(salida, one_hot)\n",
    "\n",
    "    return sofid * cross"
   ]
  },
  {
   "cell_type": "code",
   "execution_count": null,
   "id": "f284adc9-39c4-4899-9fed-19b0b45a679b",
   "metadata": {},
   "outputs": [],
   "source": [
    "def forward_pass_with_dropout(layers, x, training=True):\n",
    "    \"\"\"Forward pass through network with dropout layers\"\"\"\n",
    "    activation = x\n",
    "    for layer in layers:\n",
    "        if hasattr(layer, 'training'): # It's a dropout layer\n",
    "            layer.training = training\n",
    "            activation = layer.forward(activation)\n",
    "        else: # It's a dense layer\n",
    "            activation = layer.forward(activation)\n",
    "    return activation"
   ]
  },
  {
   "cell_type": "code",
   "execution_count": null,
   "id": "98b1c2ca-c878-463f-a191-57024a05dc82",
   "metadata": {},
   "outputs": [],
   "source": [
    "def backward_pass_with_dropout(layers, grad_output):\n",
    "    \"\"\"Backward pass through network with dropout layers\"\"\"\n",
    "    grad = grad_output\n",
    "    for layer in reversed(layers):\n",
    "        if hasattr(layer, 'training'): # It's a dropout layer\n",
    "            grad = layer.backward(grad)\n",
    "        else: # It's a dense layer\n",
    "            grad = layer.backward(grad)\n",
    "    return grad"
   ]
  }
 ],
 "metadata": {
  "kernelspec": {
   "display_name": "Python 3 (ipykernel)",
   "language": "python",
   "name": "python3"
  },
  "language_info": {
   "codemirror_mode": {
    "name": "ipython",
    "version": 3
   },
   "file_extension": ".py",
   "mimetype": "text/x-python",
   "name": "python",
   "nbconvert_exporter": "python",
   "pygments_lexer": "ipython3",
   "version": "3.13.7"
  }
 },
 "nbformat": 4,
 "nbformat_minor": 5
}
