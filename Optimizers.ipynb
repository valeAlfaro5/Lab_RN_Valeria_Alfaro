{
 "cells": [
  {
   "cell_type": "code",
   "execution_count": null,
   "id": "7c0b6e89-b8bd-4b59-b762-7f11aa45ed30",
   "metadata": {},
   "outputs": [],
   "source": [
    "import sys\n",
    "import DnnLib\n",
    "import numpy as np"
   ]
  },
  {
   "cell_type": "code",
   "execution_count": null,
   "id": "0534c621-5da3-46ba-a27e-d73620de40df",
   "metadata": {},
   "outputs": [],
   "source": [
    "#Example 1\n",
    "\n",
    "# Create sample data (XOR problem)\n",
    "X = np.array([[0, 0], [0, 1], [1, 0], [1, 1]], dtype=np.float64)\n",
    "y = np.array([[0], [1], [1], [0]], dtype=np.float64)\n",
    "\n",
    "\n",
    "# Create a neural network: 2 -> 4 -> 1\n",
    "layer1 = DnnLib.DenseLayer(2, 4, DnnLib.ActivationType.RELU)\n",
    "layer2 = DnnLib.DenseLayer(4, 1, DnnLib.ActivationType.SIGMOID)\n",
    "\n",
    "# Create optimizer\n",
    "optimizer = DnnLib.Adam(learning_rate=0.01)\n",
    "\n",
    "for epoch in range(100):\n",
    "    # Forward pass\n",
    "    h1 = layer1.forward(X)\n",
    "    output = layer2.forward(h1)\n",
    "    \n",
    "    # Compute loss\n",
    "    loss = DnnLib.mse(output, y)\n",
    "    \n",
    "    # Backward pass\n",
    "    loss_grad = DnnLib.mse_gradient(output, y)\n",
    "    grad2 = layer2.backward(loss_grad)\n",
    "    grad1 = layer1.backward(grad2)\n",
    "    \n",
    "    # Update parameters\n",
    "    optimizer.update(layer2)\n",
    "    optimizer.update(layer1)\n",
    "    \n",
    "    if epoch % 20 == 0:\n",
    "        print(f\"Epoch {epoch}, Loss: {loss:.6f}\")"
   ]
  },
  {
   "cell_type": "code",
   "execution_count": null,
   "id": "4e9fbb5a-23b5-4607-a118-5ad424e6e305",
   "metadata": {},
   "outputs": [],
   "source": [
    "#Dense Layers\n",
    "\n",
    "# Basic dense layer: input_dim=3, output_dim=5, default ReLU activation\n",
    "layer = DnnLib.DenseLayer(3, 5)\n",
    "\n",
    "# With specific activation function\n",
    "layer = DnnLib.DenseLayer(3, 5, DnnLib.ActivationType.SIGMOID)\n",
    "\n",
    "#operations\n",
    "single_input = np.array([1.0, 2.0, 3.0], dtype=np.float64)\n",
    "batch_input = np.array([[1.0, 2.0, 3.0], [4.0, 5.0, 6.0]], dtype=np.float64)\n",
    "\n",
    "output = layer.forward(single_input) # Shape: (5,)\n",
    "batch_output = layer.forward(batch_input) # Shape: (2, 5)\n",
    "\n",
    "# Forward pass without activation (linear only)\n",
    "linear_output = layer.forward_linear(single_input)\n",
    "\n",
    "# Backward pass (for gradient computation)\n",
    "gradient_input = np.ones(5, dtype=np.float64) # Gradient from next layer\n",
    "input_gradient = layer.backward(gradient_input)\n",
    "\n",
    "# Access parameters\n",
    "weights = layer.weights # Shape: (output_dim, input_dim)\n",
    "bias = layer.bias # Shape: (output_dim,)\n",
    "\n",
    "# Access gradients (after backward pass)\n",
    "weight_grads = layer.weight_gradients\n",
    "bias_grads = layer.bias_gradients\n",
    "\n",
    "# Modify activation function\n",
    "layer.activation_type = DnnLib.ActivationType.TANH"
   ]
  },
  {
   "cell_type": "code",
   "execution_count": null,
   "id": "279a15c3-9563-4177-a2d3-c60d4933acb2",
   "metadata": {},
   "outputs": [],
   "source": [
    "#binary classification\n",
    "np.random.seed(42)\n",
    "x = np.random.randn(1000, 2).astype(np.float64)\n",
    "y = (x[:,0] + x[:, 1] > 0).astype(np.float64).reshape(-1,1)\n",
    "\n",
    "print(f\"Dataset: {x.shape[0]} samples, {x.shape[1]} features\")\n",
    "print(f\"Positive class: {np.sum(y)}/{len(y)} samples\")"
   ]
  },
  {
   "cell_type": "code",
   "execution_count": null,
   "id": "fdd7362d-ee20-456c-a663-c414a7ed46d1",
   "metadata": {},
   "outputs": [],
   "source": [
    "layers = [\n",
    " DnnLib.DenseLayer(2, 8, DnnLib.ActivationType.RELU),\n",
    " DnnLib.DenseLayer(8, 4, DnnLib.ActivationType.RELU),\n",
    " DnnLib.DenseLayer(4, 1, DnnLib.ActivationType.SIGMOID)\n",
    "]"
   ]
  },
  {
   "cell_type": "code",
   "execution_count": null,
   "id": "e7887553-3120-4f56-86d5-ed977dc0ecd6",
   "metadata": {},
   "outputs": [],
   "source": []
  }
 ],
 "metadata": {
  "kernelspec": {
   "display_name": "Python 3 (ipykernel)",
   "language": "python",
   "name": "python3"
  },
  "language_info": {
   "codemirror_mode": {
    "name": "ipython",
    "version": 3
   },
   "file_extension": ".py",
   "mimetype": "text/x-python",
   "name": "python",
   "nbconvert_exporter": "python",
   "pygments_lexer": "ipython3",
   "version": "3.10.18"
  }
 },
 "nbformat": 4,
 "nbformat_minor": 5
}
