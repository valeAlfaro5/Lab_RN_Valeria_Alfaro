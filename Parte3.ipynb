{
 "cells": [
  {
   "cell_type": "code",
   "execution_count": 1,
   "id": "263e3322-855a-41e7-a9d8-49139b43c3e8",
   "metadata": {},
   "outputs": [
    {
     "name": "stdout",
     "output_type": "stream",
     "text": [
      "(128, 784)\n",
      "Predicción test: 96.66\n",
      "Predicción entrenamiento: 97.10666666666667\n"
     ]
    }
   ],
   "source": [
    "import numpy as np\n",
    "import DnnLib\n",
    "import json\n",
    "import matplotlib.pyplot as plt\n",
    "\n",
    "#carga de datos\n",
    "with open(\"mnist_mlp_pretty.json\", \"r\") as f:\n",
    "    datos = json.load(f)\n",
    "\n",
    "#carga imagenes y labels\n",
    "data = np.load(\"mnist_test.npz\")\n",
    "images = data[\"images\"]\n",
    "labels = data[\"labels\"]\n",
    "\n",
    "pruebas = np.load(\"mnist_train.npz\")\n",
    "image = pruebas[\"images\"]\n",
    "label = pruebas[\"labels\"]\n",
    "\n",
    "#capa1\n",
    "w1 = np.array(datos[\"layers\"][0][\"W\"])\n",
    "b1 = np.array(datos[\"layers\"][0][\"b\"])\n",
    "\n",
    "#capa2\n",
    "w2 = np.array(datos[\"layers\"][1][\"W\"])\n",
    "b2 = np.array(datos[\"layers\"][1][\"b\"])\n",
    "\n",
    "#activación por capa\n",
    "activate1 = datos[\"layers\"][0][\"activation\"]\n",
    "activate2 = datos[\"layers\"][1][\"activation\"]\n",
    "\n",
    "#definir capas densas (ambas son densas segun el json) - parte 3\n",
    "#primera capa tiene 784 entradas y 128 salidas, activacion relu\n",
    "layer1 = DnnLib.DenseLayer(784, 128, DnnLib.ActivationType.RELU)\n",
    "#segunda capa tiene 128 entradas(de capa 1) y 10 de salida, activacion softmax\n",
    "layer2 = DnnLib.DenseLayer(128, 10, DnnLib.ActivationType.SOFTMAX)\n",
    "\n",
    "#definir pesos y biases tomados del archivo\n",
    "#transponer para evitar errores\n",
    "layer1.weights = w1.T\n",
    "layer1.bias = b1.T\n",
    "layer2.weights = w2.T\n",
    "layer2.bias = b2.T\n",
    "\n",
    "x = np.random.rand(1, 784)\n",
    "print(w1.T.shape)\n",
    "\n",
    "output = layer1.forward(x)\n",
    "salida = layer2.forward(output)\n",
    "\n",
    "#probar con el mnist train\n",
    "#asegurar que tengan 784 entradas\n",
    "c = images.reshape(-1, 784)\n",
    "#normalizar\n",
    "c = c/255\n",
    "\n",
    "#asegurar que tengan 784 entradas\n",
    "f = image.reshape(-1, 784) / 255\n",
    "\n",
    "#forward de ambas capas con las imagenes\n",
    "out = layer1.forward(c)\n",
    "sal = layer2.forward(out)\n",
    "\n",
    "#forward con entrenamiento\n",
    "salidas = layer1.forward(f)\n",
    "outs = layer2.forward(salidas)\n",
    "\n",
    "# Para test\n",
    "predicts = np.argmax(sal, axis=1)\n",
    "acurr = np.mean(predicts == labels)\n",
    "print(\"Predicción test:\", acurr * 100)\n",
    "\n",
    "# Para entrenamiento\n",
    "predicts = np.argmax(outs, axis=1)\n",
    "acurr = np.mean(predicts == label)   \n",
    "print(\"Predicción entrenamiento:\", acurr * 100)\n"
   ]
  },
  {
   "cell_type": "code",
   "execution_count": null,
   "id": "f91d9321-1d96-4884-b814-d64be00c1128",
   "metadata": {},
   "outputs": [],
   "source": []
  }
 ],
 "metadata": {
  "kernelspec": {
   "display_name": "Python 3 (ipykernel)",
   "language": "python",
   "name": "python3"
  },
  "language_info": {
   "codemirror_mode": {
    "name": "ipython",
    "version": 3
   },
   "file_extension": ".py",
   "mimetype": "text/x-python",
   "name": "python",
   "nbconvert_exporter": "python",
   "pygments_lexer": "ipython3",
   "version": "3.13.7"
  }
 },
 "nbformat": 4,
 "nbformat_minor": 5
}
