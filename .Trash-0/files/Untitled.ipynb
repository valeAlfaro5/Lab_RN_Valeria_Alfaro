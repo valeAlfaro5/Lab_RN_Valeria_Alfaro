{
 "cells": [
  {
   "cell_type": "code",
   "execution_count": 1,
   "id": "7c0b6e89-b8bd-4b59-b762-7f11aa45ed30",
   "metadata": {},
   "outputs": [],
   "source": [
    "import sys\n",
    "import DnnLib\n",
    "import numpy as np"
   ]
  },
  {
   "cell_type": "code",
   "execution_count": 2,
   "id": "0534c621-5da3-46ba-a27e-d73620de40df",
   "metadata": {},
   "outputs": [
    {
     "name": "stdout",
     "output_type": "stream",
     "text": [
      "Epoch 0, Loss: 0.213275\n",
      "Epoch 20, Loss: 0.187392\n",
      "Epoch 40, Loss: 0.172109\n",
      "Epoch 60, Loss: 0.168018\n",
      "Epoch 80, Loss: 0.167389\n"
     ]
    }
   ],
   "source": [
    "# Create sample data (XOR problem)\n",
    "X = np.array([[0, 0], [0, 1], [1, 0], [1, 1]], dtype=np.float64)\n",
    "y = np.array([[0], [1], [1], [0]], dtype=np.float64)\n",
    "\n",
    "\n",
    "# Create a neural network: 2 -> 4 -> 1\n",
    "layer1 = DnnLib.DenseLayer(2, 4, DnnLib.ActivationType.RELU)\n",
    "layer2 = DnnLib.DenseLayer(4, 1, DnnLib.ActivationType.SIGMOID)\n",
    "\n",
    "# Create optimizer\n",
    "optimizer = DnnLib.Adam(learning_rate=0.01)\n",
    "\n",
    "for epoch in range(100):\n",
    "    # Forward pass\n",
    "    h1 = layer1.forward(X)\n",
    "    output = layer2.forward(h1)\n",
    "    \n",
    "    # Compute loss\n",
    "    loss = DnnLib.mse(output, y)\n",
    "    \n",
    "    # Backward pass\n",
    "    loss_grad = DnnLib.mse_gradient(output, y)\n",
    "    grad2 = layer2.backward(loss_grad)\n",
    "    grad1 = layer1.backward(grad2)\n",
    "    \n",
    "    # Update parameters\n",
    "    optimizer.update(layer2)\n",
    "    optimizer.update(layer1)\n",
    "    \n",
    "    if epoch % 20 == 0:\n",
    "        print(f\"Epoch {epoch}, Loss: {loss:.6f}\")"
   ]
  },
  {
   "cell_type": "code",
   "execution_count": null,
   "id": "4e9fbb5a-23b5-4607-a118-5ad424e6e305",
   "metadata": {},
   "outputs": [],
   "source": []
  }
 ],
 "metadata": {
  "kernelspec": {
   "display_name": "Python 3 (ipykernel)",
   "language": "python",
   "name": "python3"
  },
  "language_info": {
   "codemirror_mode": {
    "name": "ipython",
    "version": 3
   },
   "file_extension": ".py",
   "mimetype": "text/x-python",
   "name": "python",
   "nbconvert_exporter": "python",
   "pygments_lexer": "ipython3",
   "version": "3.10.18"
  }
 },
 "nbformat": 4,
 "nbformat_minor": 5
}
