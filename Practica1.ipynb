{
 "cells": [
  {
   "cell_type": "code",
   "execution_count": 2,
   "id": "89ab8415-fbfe-4dd9-8b50-a2e13f985b39",
   "metadata": {},
   "outputs": [],
   "source": [
    "import numpy as np\n",
    "import DnnLib\n"
   ]
  },
  {
   "cell_type": "code",
   "execution_count": 3,
   "id": "f38250f7-ea1f-4b3f-9f6e-fed3499b5801",
   "metadata": {},
   "outputs": [],
   "source": [
    "x = np.array([[0.5,-0.2, 0.1]])"
   ]
  },
  {
   "cell_type": "code",
   "execution_count": 4,
   "id": "57588d70-9c25-4cbf-ad1e-71a2bfc212e6",
   "metadata": {},
   "outputs": [],
   "source": [
    "layer = DnnLib.DenseLayer(3, 2, DnnLib.ActivationType.RELU)"
   ]
  },
  {
   "cell_type": "code",
   "execution_count": 5,
   "id": "c720bc0a-75e7-4990-b493-800b9dd71a82",
   "metadata": {},
   "outputs": [],
   "source": [
    "layer.weights = np.array([[0.1, 0.2, 0.3], [0.4, 0.5, 0.6]])\n",
    "layer.bias = np.array([0.01, -0.02])"
   ]
  },
  {
   "cell_type": "code",
   "execution_count": 6,
   "id": "3341b506-aa2f-4384-98f6-bbeab4b015ee",
   "metadata": {},
   "outputs": [
    {
     "name": "stdout",
     "output_type": "stream",
     "text": [
      "Salida con activación: [[0.05 0.14]]\n"
     ]
    }
   ],
   "source": [
    "y = layer.forward(x)\n",
    "print(\"Salida con activación:\", y)"
   ]
  },
  {
   "cell_type": "code",
   "execution_count": 7,
   "id": "d37ef81a-8c7d-4c1d-98df-a336b8650e7e",
   "metadata": {},
   "outputs": [
    {
     "name": "stdout",
     "output_type": "stream",
     "text": [
      "Salida lineal: [[0.05 0.14]]\n"
     ]
    }
   ],
   "source": [
    "y_lin = layer.forward_linear(x)\n",
    "print(\"Salida lineal:\", y_lin)"
   ]
  },
  {
   "cell_type": "code",
   "execution_count": 8,
   "id": "bcfcb6e8-613f-4645-aa67-a3439c846c9c",
   "metadata": {},
   "outputs": [
    {
     "name": "stdout",
     "output_type": "stream",
     "text": [
      "Sigmoid: [0.5        0.88079708 0.26894142]\n"
     ]
    }
   ],
   "source": [
    "print(\"Sigmoid:\", DnnLib.sigmoid(np.array([0.0, 2.0,-1.0])))"
   ]
  }
 ],
 "metadata": {
  "kernelspec": {
   "display_name": "Python 3 (ipykernel)",
   "language": "python",
   "name": "python3"
  },
  "language_info": {
   "codemirror_mode": {
    "name": "ipython",
    "version": 3
   },
   "file_extension": ".py",
   "mimetype": "text/x-python",
   "name": "python",
   "nbconvert_exporter": "python",
   "pygments_lexer": "ipython3",
   "version": "3.10.18"
  }
 },
 "nbformat": 4,
 "nbformat_minor": 5
}
